{
 "cells": [
  {
   "cell_type": "code",
   "execution_count": 7,
   "id": "2f55764c",
   "metadata": {},
   "outputs": [],
   "source": [
    "import cv2\n",
    "import numpy as np\n",
    "import matplotlib.pyplot as plt\n",
    "import os"
   ]
  },
  {
   "cell_type": "markdown",
   "id": "2f55d323",
   "metadata": {},
   "source": [
    "## Chargement images"
   ]
  },
  {
   "cell_type": "code",
   "execution_count": 8,
   "id": "d2f6d4a6",
   "metadata": {},
   "outputs": [],
   "source": [
    "data_dir = 'C:/Users/martin/Desktop/Moi/Efrei/Imagerie médicale/Project/data/Training/'"
   ]
  },
  {
   "cell_type": "code",
   "execution_count": 10,
   "id": "d7d9a313",
   "metadata": {},
   "outputs": [
    {
     "data": {
      "text/plain": [
       "['glioma', 'meningioma', 'notumor', 'pituitary']"
      ]
     },
     "execution_count": 10,
     "metadata": {},
     "output_type": "execute_result"
    }
   ],
   "source": [
    "filenames_training = [name for name in os.listdir(data_dir)]\n",
    "filenames_training"
   ]
  },
  {
   "cell_type": "code",
   "execution_count": 11,
   "id": "7df06319",
   "metadata": {},
   "outputs": [],
   "source": [
    "list_images = [[name for name in os.listdir(data_dir+cancer_type)] for cancer_type in filenames_training ]"
   ]
  },
  {
   "cell_type": "code",
   "execution_count": null,
   "id": "a7ffd2e9",
   "metadata": {},
   "outputs": [],
   "source": []
  }
 ],
 "metadata": {
  "kernelspec": {
   "display_name": "masterProject",
   "language": "python",
   "name": "masterproject"
  },
  "language_info": {
   "codemirror_mode": {
    "name": "ipython",
    "version": 3
   },
   "file_extension": ".py",
   "mimetype": "text/x-python",
   "name": "python",
   "nbconvert_exporter": "python",
   "pygments_lexer": "ipython3",
   "version": "3.8.13"
  }
 },
 "nbformat": 4,
 "nbformat_minor": 5
}
